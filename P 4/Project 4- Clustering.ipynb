{
 "cells": [
  {
   "cell_type": "markdown",
   "metadata": {},
   "source": [
    "# 4.1 Fuzzy-C maeans and K-Means Explanation"
   ]
  },
  {
   "cell_type": "markdown",
   "metadata": {},
   "source": [
    "K-Means clustering and Fuzzy-C Means Clustering are very similar in approaches. The main difference is that, in Fuzzy-C Means clustering, each point has a weighting associated with a particular cluster, so a point doesn't sit \"in a cluster\" as much as has a weak or strong association to the cluster, which is determined by the inverse distance to the center of the cluster.\n",
    "\n",
    "Fuzzy-C means will tend to run slower than K means, since it's actually doing more work. Each point is evaluated with each cluster, and more operations are involved in each evaluation. K-Means just needs to do a distance calculation, whereas fuzzy c means needs to do a full inverse-distance weighting"
   ]
  },
  {
   "cell_type": "markdown",
   "metadata": {},
   "source": [
    "<b>K-means algorithm</b> <br>\n",
    "KM iteratively computes cluster centroids for each distance measure in order to minimize the sum\n",
    "with respect to the specified measure. KM algorithm aims at minimizing an objective function known\n",
    "as squared error function given in Equation (1) as follows: <br>\n",
    "𝐽𝐾𝑀(𝑿; 𝑽) = ∑ ∑ 𝐷𝑖𝑗\n",
    "𝑛 2\n",
    "𝑗=1\n",
    "𝑐\n",
    "𝑖=1\n",
    "(1)\n",
    "Where,\n",
    "𝐷𝑖𝑗\n",
    "2\n",
    "is the chosen distance measure which is generally in Euclidean norm: ‖𝑥𝑖𝑗 − 𝑣𝑖‖\n",
    "2\n",
    ", 1 ≤\n",
    "𝑖 ≤ 𝑐, 1 ≤ 𝑗 ≤ 𝑛𝑖\n",
    ". Where 𝑛𝑖\n",
    "represents the number of data points in i\n",
    "th cluster. <br>\n",
    "For 𝑐 clusters, KM is based on an iterative algorithm minimizing the sum of distances from each\n",
    "object to its cluster centroid. The objects are moved between clusters until the sum cannot be decreased\n",
    "any more. KM algorithm involves the following steps:<br>\n",
    "1) Centroids of 𝑐 clusters are chosen from 𝑿 randomly.<br>\n",
    "2) Distances between data points and cluster centroids are calculated.<br>\n",
    "3) Each data point is assigned to the cluster whose centroid is closest to it.<br>\n",
    "4) Cluster centroids are updated by using the formula in Equation (2):<br>\n",
    "𝒗𝑖 = ∑ 𝑥𝑖𝑗\n",
    "𝑛𝑖\n",
    "𝑖=1\n",
    "/𝑛𝑖\n",
    "; 1 ≤ 𝑖 ≤ 𝑐 (2)\n",
    "5) Distances from the updated cluster centroids are recalculated.<br>\n",
    "6) If no data point is assigned to a new cluster the run of algorithm is stopped, otherwise the\n",
    "steps from 3 to 5 are repeated for probable movements of data points between the clusters.\n",
    "\n",
    "<br>\n",
    "<b>Fuzzy C-means algorithm</b> <br>\n",
    "FCM algorithm minimizes the objective function in Equation (3).<br>\n",
    "𝐽𝐹𝐶𝑀(𝑿; 𝑼, 𝑽) = ∑ ∑ 𝑢𝑖𝑗\n",
    "𝑛 𝑚\n",
    "𝑗=1\n",
    "𝑐\n",
    "𝑖=1 𝐷𝑖𝑗𝑨\n",
    "2\n",
    "(3) <br>\n",
    "This function differs from classical KM with the use of weighted squared errors instead of using squared\n",
    "errors only. In the objective function in Equation (3), 𝑼 is a fuzzy partition matrix that is computed from\n",
    "dataset 𝑿: <br>\n",
    "𝐔 = [𝑢𝑖𝑗] ∈ 𝑀𝐹𝐶𝑀 (4) <br>\n",
    "The fuzzy clustering of 𝑿 is represented with 𝑼 membership matrix in 𝑐 × 𝑛 dimension.The element\n",
    "𝑢𝑖𝑗 is the membership value of i\n",
    "th object to j\n",
    "th cluster. In this case, the j\n",
    "th\n",
    "column of 𝑼 matrix is formed\n",
    "with membership values of n objects to j\n",
    "th cluster. 𝑽 is a prototype vector of cluster prototypes\n",
    "(centroids):<br>\n",
    "𝑽 = [𝐯1, 𝐯2, … , 𝐯𝑐\n",
    "], 𝐯𝑖 ∈ ℝ𝑝\n",
    "(5)\n",
    "<br>\n",
    "𝐷𝑖𝑗𝑨\n",
    "2\n",
    "is the distances between i\n",
    "th features vector and the centroid of j\n",
    "th cluster. They are computed as\n",
    "a squared inner-product distance norm in Equation (6):<br>\n",
    "𝐷𝑖𝑗𝑨\n",
    "2 = ‖𝐱𝑗 − 𝐯𝑖‖\n",
    "𝑨\n",
    "2\n",
    "= (𝐱𝑗 − 𝐯𝑖)\n",
    "𝑇𝑨(𝐱𝑗 − 𝐯𝑖) (6) <br>\n",
    "In Equation (6), 𝑨 is a positive and symmetric norm matrix. The inner product with 𝑨 is a measure\n",
    "of distances between data points and cluster prototypes. When 𝑨 is equal to 𝑰, 𝐷𝑖𝑗𝑨\n",
    "2\n",
    "is obtained in squared\n",
    "Euclidean norm. In Equation (3), 𝑚 is a fuzzifier parameter (or weighting exponent) whose value is\n",
    "chosen as a real number greater than 1 (𝑚 ∈ [1, ∞)). <br> While 𝑚 approaches to 1 clustering tends to\n",
    "become crisp but when it goes to the infinity clustering becomes fuzzified. The value of fuzzifier is\n",
    "usually chosen as 2 in the most of applications. The objective function is minimized with the constraints\n",
    "as follows (7, 8 and 9): <br>\n",
    "𝑢𝑖𝑗 ∈ [0,1]; 1 ≤ 𝑖 ≤ 𝑐, 1 ≤ 𝑗 ≤ 𝑛 (7)<br>\n",
    "∑ 𝑢𝑖𝑗 = 1; 1 ≤ 𝑗 ≤ 𝑛\n",
    "𝑐\n",
    "𝑖=1\n",
    "(8)<br>\n",
    "0 < ∑ 𝑢𝑖𝑗 < 𝑛; 1 ≤ 𝑖 ≤ 𝑐\n",
    "𝑛\n",
    "𝑗=1\n",
    "(9)<br>\n",
    "\n",
    "FCM is an iterative process and stops when the number of iterations is reached to maximum, or when\n",
    "the difference between two consecutive values of objective function is less than a predefined\n",
    "convergence value (𝜀). The steps involved in FCM are:<br>\n",
    "1) Initialize 𝑼<br>\n",
    "2) Calculate prototype vectors: <br> 𝐯𝑖 =\n",
    "∑ 𝑢𝑖𝑗\n",
    "𝑚𝒙𝑗\n",
    "𝑛\n",
    "𝑗=1\n",
    "∑ 𝑢𝑖𝑗\n",
    "𝑛 𝑚\n",
    "𝑗=1\n",
    "; 1 ≤ 𝑖 ≤ 𝑐 (10)<br>\n",
    "3) Calculate membership values with:<br>\n",
    "𝑢𝑖𝑗 =\n",
    "1\n",
    "∑ (𝐷𝑖𝑗𝑨/𝐷𝑘𝑗𝑨)\n",
    "2/(𝑚−1) 𝑐\n",
    "𝑘=1\n",
    "; 1 ≤ 𝑖 ≤ 𝑐 , 1 ≤ 𝑗 ≤ 𝑛 (11)<br>\n",
    "4) Compare 𝑼 \n",
    "(𝑡+1) with 𝑼\n",
    "(𝑡)\n",
    ", where 𝑡 is the iteration number.<br>\n",
    "5) If ‖𝑼\n",
    "(𝑡+1) − 𝑼\n",
    "(𝑡)‖ < 𝜀 then stop else return to the step 2."
   ]
  },
  {
   "cell_type": "markdown",
   "metadata": {},
   "source": [
    "# 4.2 Evaluation Methods(Metrics) for Clustering"
   ]
  },
  {
   "cell_type": "markdown",
   "metadata": {},
   "source": [
    "### Rand Index"
   ]
  },
  {
   "cell_type": "markdown",
   "metadata": {},
   "source": [
    "The Rand index penalizes both false positive and false negative decisions during clustering. The F measure in addition supports differential weighting of these two types of errors and The Rand index measures the percentage of decisions that are correct. That is, it is simply accuracy.The Rand index gives equal weight to false positives and false negatives"
   ]
  },
  {
   "cell_type": "markdown",
   "metadata": {},
   "source": [
    "<img src='https://nlp.stanford.edu/IR-book/html/htmledition/img1416.png'> "
   ]
  },
  {
   "cell_type": "markdown",
   "metadata": {},
   "source": [
    "### NMI (normalized mutual information)"
   ]
  },
  {
   "cell_type": "markdown",
   "metadata": {},
   "source": [
    " <img src = \"https://nlp.stanford.edu/IR-book/html/htmledition/img1398.png\">\n",
    " \n",
    " Where I is mutual information: \n",
    " <img src =\"https://nlp.stanford.edu/IR-book/html/htmledition/img1400.png\">\n",
    " and equals to:\n",
    " <img src = \"https://nlp.stanford.edu/IR-book/html/htmledition/img1402.png\">\n",
    " and H is entropy:\n",
    " <img src = \"https://nlp.stanford.edu/IR-book/html/htmledition/img1406.png\">\n",
    " and equals to:\n",
    " <img src=\"https://nlp.stanford.edu/IR-book/html/htmledition/img1408.png\">"
   ]
  },
  {
   "cell_type": "markdown",
   "metadata": {},
   "source": [
    "# 4.3 FCM and KM on IRIS"
   ]
  },
  {
   "cell_type": "code",
   "execution_count": 128,
   "metadata": {},
   "outputs": [
    {
     "name": "stderr",
     "output_type": "stream",
     "text": [
      "/home/yazdan/anaconda3/lib/python3.7/importlib/_bootstrap.py:219: RuntimeWarning: numpy.ufunc size changed, may indicate binary incompatibility. Expected 192 from C header, got 216 from PyObject\n",
      "  return f(*args, **kwds)\n"
     ]
    }
   ],
   "source": [
    "import numpy as np\n",
    "import pandas as pd\n",
    "import matplotlib.pyplot as plt\n",
    "from sklearn import datasets\n",
    "from sklearn.cluster import KMeans\n",
    "from sklearn import metrics\n",
    "from sklearn.metrics import normalized_mutual_info_score\n",
    "from sklearn.metrics import adjusted_rand_score\n",
    "from sklearn.metrics import adjusted_mutual_info_score\n",
    "from sklearn.preprocessing import StandardScaler\n",
    "from sklearn.decomposition import TruncatedSVD\n",
    "from sklearn.preprocessing import Normalizer\n",
    "import matplotlib.pyplot as plt\n",
    "import skfuzzy as fuzz\n",
    "import seaborn as sns\n",
    "np.random.seed(42)"
   ]
  },
  {
   "cell_type": "code",
   "execution_count": 129,
   "metadata": {},
   "outputs": [],
   "source": [
    "data = datasets.load_iris(as_frame=True)"
   ]
  },
  {
   "cell_type": "code",
   "execution_count": 130,
   "metadata": {},
   "outputs": [
    {
     "data": {
      "text/plain": [
       "<Figure size 432x216 with 0 Axes>"
      ]
     },
     "execution_count": 130,
     "metadata": {},
     "output_type": "execute_result"
    },
    {
     "data": {
      "text/plain": [
       "<Figure size 432x216 with 0 Axes>"
      ]
     },
     "metadata": {},
     "output_type": "display_data"
    }
   ],
   "source": [
    "X_iris = pd.DataFrame(iris.data, columns=['Sepal Length', 'Sepal Width', 'Petal Length', 'Petal Width'])\n",
    "y_iris = pd.DataFrame(iris.target, columns=['Target'])\n",
    "plt.figure(figsize=(6, 3))"
   ]
  },
  {
   "cell_type": "code",
   "execution_count": 131,
   "metadata": {},
   "outputs": [],
   "source": [
    "features = data.feature_names"
   ]
  },
  {
   "cell_type": "code",
   "execution_count": 132,
   "metadata": {},
   "outputs": [],
   "source": [
    "df = data.frame"
   ]
  },
  {
   "cell_type": "code",
   "execution_count": 133,
   "metadata": {},
   "outputs": [
    {
     "data": {
      "text/plain": [
       "(150, 5)"
      ]
     },
     "execution_count": 133,
     "metadata": {},
     "output_type": "execute_result"
    }
   ],
   "source": [
    "df.shape"
   ]
  },
  {
   "cell_type": "code",
   "execution_count": 134,
   "metadata": {},
   "outputs": [
    {
     "data": {
      "text/html": [
       "<div>\n",
       "<style scoped>\n",
       "    .dataframe tbody tr th:only-of-type {\n",
       "        vertical-align: middle;\n",
       "    }\n",
       "\n",
       "    .dataframe tbody tr th {\n",
       "        vertical-align: top;\n",
       "    }\n",
       "\n",
       "    .dataframe thead th {\n",
       "        text-align: right;\n",
       "    }\n",
       "</style>\n",
       "<table border=\"1\" class=\"dataframe\">\n",
       "  <thead>\n",
       "    <tr style=\"text-align: right;\">\n",
       "      <th></th>\n",
       "      <th>Sepal Length</th>\n",
       "      <th>Sepal Width</th>\n",
       "      <th>Petal Length</th>\n",
       "      <th>Petal Width</th>\n",
       "    </tr>\n",
       "  </thead>\n",
       "  <tbody>\n",
       "    <tr>\n",
       "      <th>73</th>\n",
       "      <td>0.310998</td>\n",
       "      <td>-0.592373</td>\n",
       "      <td>0.535409</td>\n",
       "      <td>0.000878</td>\n",
       "    </tr>\n",
       "    <tr>\n",
       "      <th>18</th>\n",
       "      <td>-0.173674</td>\n",
       "      <td>1.709595</td>\n",
       "      <td>-1.169714</td>\n",
       "      <td>-1.183812</td>\n",
       "    </tr>\n",
       "    <tr>\n",
       "      <th>118</th>\n",
       "      <td>2.249683</td>\n",
       "      <td>-1.052767</td>\n",
       "      <td>1.785832</td>\n",
       "      <td>1.448832</td>\n",
       "    </tr>\n",
       "    <tr>\n",
       "      <th>78</th>\n",
       "      <td>0.189830</td>\n",
       "      <td>-0.362176</td>\n",
       "      <td>0.421734</td>\n",
       "      <td>0.395774</td>\n",
       "    </tr>\n",
       "    <tr>\n",
       "      <th>76</th>\n",
       "      <td>1.159173</td>\n",
       "      <td>-0.592373</td>\n",
       "      <td>0.592246</td>\n",
       "      <td>0.264142</td>\n",
       "    </tr>\n",
       "  </tbody>\n",
       "</table>\n",
       "</div>"
      ],
      "text/plain": [
       "     Sepal Length  Sepal Width  Petal Length  Petal Width\n",
       "73       0.310998    -0.592373      0.535409     0.000878\n",
       "18      -0.173674     1.709595     -1.169714    -1.183812\n",
       "118      2.249683    -1.052767      1.785832     1.448832\n",
       "78       0.189830    -0.362176      0.421734     0.395774\n",
       "76       1.159173    -0.592373      0.592246     0.264142"
      ]
     },
     "execution_count": 134,
     "metadata": {},
     "output_type": "execute_result"
    }
   ],
   "source": [
    "scaler = StandardScaler()\n",
    "\n",
    "scaler.fit(X_iris)\n",
    "X_scaled_array = scaler.transform(X_iris)\n",
    "X_scaled = pd.DataFrame(X_scaled_array, columns = X_iris.columns)\n",
    "\n",
    "X_scaled.sample(5)"
   ]
  },
  {
   "cell_type": "code",
   "execution_count": 135,
   "metadata": {},
   "outputs": [],
   "source": [
    "k_means_3 = KMeans(n_clusters=3)"
   ]
  },
  {
   "cell_type": "code",
   "execution_count": 136,
   "metadata": {},
   "outputs": [],
   "source": [
    "k_means_5 = KMeans(n_clusters=5)"
   ]
  },
  {
   "cell_type": "code",
   "execution_count": 137,
   "metadata": {},
   "outputs": [
    {
     "name": "stdout",
     "output_type": "stream",
     "text": [
      "[3 1 1 1 3 3 1 1 1 1 3 1 1 1 3 3 3 3 3 3 3 3 3 1 1 1 1 3 3 1 1 3 3 3 1 1 3\n",
      " 3 1 1 3 1 1 3 3 1 3 1 3 1 0 4 0 2 4 4 4 2 4 2 2 4 2 4 2 4 4 2 2 2 4 4 4 4\n",
      " 4 4 4 4 4 2 2 2 2 4 4 4 4 2 4 2 2 4 2 2 2 4 4 4 2 2 0 4 0 4 0 0 2 0 4 0 0\n",
      " 4 0 4 4 0 4 0 0 2 0 4 0 4 0 0 4 4 4 0 0 0 4 4 4 0 0 4 4 0 0 0 4 0 0 0 4 4\n",
      " 0 4]\n"
     ]
    }
   ],
   "source": [
    "y_kmeans5 = k_means_5.fit_predict(X_scaled)\n",
    "print(y_kmeans5)"
   ]
  },
  {
   "cell_type": "code",
   "execution_count": 138,
   "metadata": {},
   "outputs": [
    {
     "name": "stdout",
     "output_type": "stream",
     "text": [
      "[1 1 1 1 1 1 1 1 1 1 1 1 1 1 1 1 1 1 1 1 1 1 1 1 1 1 1 1 1 1 1 1 1 1 1 1 1\n",
      " 1 1 1 1 1 1 1 1 1 1 1 1 1 2 2 2 0 0 0 2 0 0 0 0 0 0 0 0 2 0 0 0 0 2 0 0 0\n",
      " 0 2 2 2 0 0 0 0 0 0 0 2 2 0 0 0 0 0 0 0 0 0 0 0 0 0 2 0 2 2 2 2 0 2 2 2 2\n",
      " 2 2 0 0 2 2 2 2 0 2 0 2 0 2 2 0 2 2 2 2 2 2 0 0 2 2 2 0 2 2 2 0 2 2 2 0 2\n",
      " 2 0]\n"
     ]
    }
   ],
   "source": [
    "y_kmeans3 = k_means_3.fit_predict(X_scaled)\n",
    "print(y_kmeans3)"
   ]
  },
  {
   "cell_type": "code",
   "execution_count": 139,
   "metadata": {},
   "outputs": [
    {
     "data": {
      "text/plain": [
       "array([[ 1.39733017,  0.23316022,  1.16062026,  1.21734049],\n",
       "       [-1.30780521,  0.19950386, -1.30839757, -1.28911786],\n",
       "       [-0.35279167, -1.33300609,  0.10294988,  0.01232382],\n",
       "       [-0.72135272,  1.5070215 , -1.30157708, -1.22066912],\n",
       "       [ 0.38167879, -0.39095084,  0.60882357,  0.56579901]])"
      ]
     },
     "execution_count": 139,
     "metadata": {},
     "output_type": "execute_result"
    }
   ],
   "source": [
    "k_means_5.cluster_centers_"
   ]
  },
  {
   "cell_type": "markdown",
   "metadata": {},
   "source": [
    "### FPC with scikit_fuzzy"
   ]
  },
  {
   "cell_type": "code",
   "execution_count": 140,
   "metadata": {},
   "outputs": [
    {
     "data": {
      "image/png": "[encoded data removed]",
      "text/plain": [
       "<Figure size 576x576 with 9 Axes>"
      ]
     },
     "metadata": {
      "needs_background": "light"
     },
     "output_type": "display_data"
    }
   ],
   "source": [
    "scaler = StandardScaler()\n",
    "X_std = scaler.fit_transform(X_iris)\n",
    "lsa = TruncatedSVD(2, algorithm = 'arpack')\n",
    "dtm_lsa = lsa.fit_transform(X_std)\n",
    "dtm_lsa = Normalizer(copy=False).fit_transform(dtm_lsa)\n",
    "a= pd.DataFrame(dtm_lsa, columns = [\"component_1\",\"component_2\"])\n",
    "a['targets']=y\n",
    "fig1, axes1 = plt.subplots(3, 3, figsize=(8, 8))\n",
    "alldata = np.vstack((a['component_1'], a['component_2']))\n",
    "fpcs = []\n",
    "\n",
    "colors = ['b', 'orange', 'g', 'r', 'c', 'm', 'y', 'k', 'Brown', 'ForestGreen'] \n",
    "\n",
    "for ncenters, ax in enumerate(axes1.reshape(-1), 2):\n",
    "    cntr, u, u0, d, jm, p, fpc = fuzz.cluster.cmeans(\n",
    "        alldata, ncenters, 2, error=0.005, maxiter=1000, init=None)\n",
    "\n",
    "    # Store fpc values for later plots\n",
    "    fpcs.append(fpc)\n",
    "\n",
    "    # Plot assigned clusters, for each data point in training set\n",
    "    cluster_membership = np.argmax(u, axis=0)\n",
    "    for j in range(ncenters):\n",
    "        ax.plot(a['component_1'][cluster_membership == j],\n",
    "                a['component_2'][cluster_membership == j], '.', color=colors[j])\n",
    "\n",
    "    # Mark the center of each fuzzy cluster\n",
    "    for pt in cntr:\n",
    "        ax.plot(pt[0], pt[1], 'rs')\n",
    "\n",
    "    ax.set_title('Centers = {0}; FPC = {1:.2f}'.format(ncenters, fpc))\n",
    "    ax.axis('off')\n",
    "\n",
    "fig1.tight_layout()\n",
    "fig1.savefig('iris_dataset.png')"
   ]
  },
  {
   "cell_type": "markdown",
   "metadata": {},
   "source": [
    "## metrics (1.silhouette 2.AMI 3.Rand Index)"
   ]
  },
  {
   "cell_type": "code",
   "execution_count": 141,
   "metadata": {},
   "outputs": [
    {
     "data": {
      "text/plain": [
       "0.45994823920518635"
      ]
     },
     "execution_count": 141,
     "metadata": {},
     "output_type": "execute_result"
    }
   ],
   "source": [
    "score = metrics.silhouette_score(X_scaled, y_kmeans3)\n",
    "score"
   ]
  },
  {
   "cell_type": "code",
   "execution_count": 142,
   "metadata": {},
   "outputs": [
    {
     "data": {
      "text/plain": [
       "0.34194697093163473"
      ]
     },
     "execution_count": 142,
     "metadata": {},
     "output_type": "execute_result"
    }
   ],
   "source": [
    "score = metrics.silhouette_score(X_scaled, y_kmeans5)\n",
    "score"
   ]
  },
  {
   "cell_type": "code",
   "execution_count": 144,
   "metadata": {},
   "outputs": [
    {
     "data": {
      "image/png": "[encoded data removed]",
      "text/plain": [
       "<Figure size 432x288 with 1 Axes>"
      ]
     },
     "metadata": {
      "needs_background": "light"
     },
     "output_type": "display_data"
    }
   ],
   "source": [
    "scores = metrics.silhouette_samples(X_scaled, y_kmeans3)\n",
    "sns.distplot(scores);"
   ]
  },
  {
   "cell_type": "code",
   "execution_count": 145,
   "metadata": {},
   "outputs": [
    {
     "data": {
      "text/plain": [
       "<matplotlib.axes._subplots.AxesSubplot at 0x7f271490b3d0>"
      ]
     },
     "execution_count": 145,
     "metadata": {},
     "output_type": "execute_result"
    },
    {
     "data": {
      "image/png": "[encoded data removed]",
      "text/plain": [
       "<Figure size 432x288 with 1 Axes>"
      ]
     },
     "metadata": {
      "needs_background": "light"
     },
     "output_type": "display_data"
    }
   ],
   "source": [
    "scores = metrics.silhouette_samples(X_scaled, y_kmeans5)\n",
    "sns.distplot(scores)"
   ]
  },
  {
   "cell_type": "code",
   "execution_count": 156,
   "metadata": {},
   "outputs": [],
   "source": [
    "ami = metrics.adjusted_mutual_info_score(y_kmeans3,iris.target)"
   ]
  },
  {
   "cell_type": "code",
   "execution_count": 157,
   "metadata": {},
   "outputs": [
    {
     "data": {
      "text/plain": [
       "0.6552228479234871"
      ]
     },
     "execution_count": 157,
     "metadata": {},
     "output_type": "execute_result"
    }
   ],
   "source": [
    "ami"
   ]
  },
  {
   "cell_type": "code",
   "execution_count": 158,
   "metadata": {},
   "outputs": [],
   "source": [
    "ami_5 =metrics.adjusted_mutual_info_score(y_kmeans5,iris.target)"
   ]
  },
  {
   "cell_type": "code",
   "execution_count": 159,
   "metadata": {},
   "outputs": [
    {
     "data": {
      "text/plain": [
       "0.5806781330526806"
      ]
     },
     "execution_count": 159,
     "metadata": {},
     "output_type": "execute_result"
    }
   ],
   "source": [
    "ami_5"
   ]
  },
  {
   "cell_type": "code",
   "execution_count": 165,
   "metadata": {},
   "outputs": [],
   "source": [
    "randindex = metrics.adjusted_rand_score(y_kmeans3,iris.target)"
   ]
  },
  {
   "cell_type": "code",
   "execution_count": 166,
   "metadata": {},
   "outputs": [
    {
     "data": {
      "text/plain": [
       "0.6201351808870379"
      ]
     },
     "execution_count": 166,
     "metadata": {},
     "output_type": "execute_result"
    }
   ],
   "source": [
    "randindex"
   ]
  },
  {
   "cell_type": "code",
   "execution_count": 167,
   "metadata": {},
   "outputs": [],
   "source": [
    "randindex_5 = metrics.adjusted_rand_score(y_kmeans5,iris.target)"
   ]
  },
  {
   "cell_type": "code",
   "execution_count": 168,
   "metadata": {},
   "outputs": [
    {
     "data": {
      "text/plain": [
       "0.41808005832855233"
      ]
     },
     "execution_count": 168,
     "metadata": {},
     "output_type": "execute_result"
    }
   ],
   "source": [
    "randindex_5"
   ]
  },
  {
   "cell_type": "markdown",
   "metadata": {},
   "source": [
    "# 4.4 Paper Works"
   ]
  },
  {
   "cell_type": "code",
   "execution_count": null,
   "metadata": {},
   "outputs": [],
   "source": []
  }
 ],
 "metadata": {
  "kernelspec": {
   "display_name": "Python 3",
   "language": "python",
   "name": "python3"
  },
  "language_info": {
   "codemirror_mode": {
    "name": "ipython",
    "version": 3
   },
   "file_extension": ".py",
   "mimetype": "text/x-python",
   "name": "python",
   "nbconvert_exporter": "python",
   "pygments_lexer": "ipython3",
   "version": "3.7.5"
  }
 },
 "nbformat": 4,
 "nbformat_minor": 2
}
