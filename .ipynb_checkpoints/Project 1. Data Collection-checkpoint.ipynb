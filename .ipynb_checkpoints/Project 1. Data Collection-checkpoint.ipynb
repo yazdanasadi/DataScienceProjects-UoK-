{
 "cells": [
  {
   "cell_type": "code",
   "execution_count": 258,
   "metadata": {},
   "outputs": [],
   "source": [
    "import time\n",
    "import requests\n",
    "from bs4 import BeautifulSoup\n",
    "import json\n",
    "import string\n",
    "from selenium import webdriver\n",
    "from selenium.webdriver.common.by import By\n",
    "from selenium.webdriver.support.ui import WebDriverWait\n",
    "from selenium.webdriver.support import expected_conditions as EC\n",
    "from selenium.webdriver.common.keys import Keys\n",
    "base = \"https://uok.ac.ir/fa.aspx\"\n",
    "browser = webdriver.Chrome('/usr/bin/chromedriver')\n",
    "wait = WebDriverWait(browser, 10)\n",
    "browser.get(base)\n"
   ]
  },
  {
   "cell_type": "markdown",
   "metadata": {},
   "source": [
    "# Part 1"
   ]
  },
  {
   "cell_type": "code",
   "execution_count": 126,
   "metadata": {},
   "outputs": [],
   "source": [
    "wait = WebDriverWait(browser, 5)\n",
    "browser.implicitly_wait(5)\n",
    "wait.until(EC.presence_of_element_located((By.XPATH, '//*[@id=\"form1\"]/div[4]/div[1]/div/div[2]')))\n",
    "news = browser.find_element_by_xpath('//*[@id=\"form1\"]/div[4]/div[1]/div/div[2]')\n"
   ]
  },
  {
   "cell_type": "code",
   "execution_count": 128,
   "metadata": {},
   "outputs": [
    {
     "name": "stdout",
     "output_type": "stream",
     "text": [
      "اخبار ویژه\n",
      "اخبار آموزشی\n",
      "اخبار دانشجویی\n",
      "اخبار پژوهشی\n",
      "اخبار انتصابات\n",
      "اخبار به زبان کردی\n",
      "سایر اخبار\n",
      "برگزاری اولین نشست مجازی کارگروه ملی همکاری‌های علمی و بین‌المللی با اقلیم کردستان عراق\n",
      "نشست کارگروه ملی همکاری‌های علمی و بین‌المللی با اقلیم کردستان عراق روز سه‌شنبه مورخه ۱۳۹۹/۰۴/۳۰ ساعت ۱۳:۰۰ لغایت ۱۵:۱۵ به صورت مجازی و به میزبانی دانشگاه کردستان از طریق سامانه LMS برگزار گردید.\n",
      "پنجشنبه ۲ مرداد ۱۳۹۹\n",
      "بیشتر »\n",
      "دومین نشست اعضای هیأت علمی زن دانشگاه کردستان به صورت مجازی برگزار شد\n",
      "دومین نشست اعضای هیأت علمی زن در دانشگاه کردستان با حضور ریاست دانشگاه و مشاور رئیس دانشگاه در امور زنان به صورت مجازی برگزار شد.\n",
      "پنجشنبه ۲ مرداد ۱۳۹۹\n",
      "بیشتر »\n",
      "طی مراسمی صورت گرفت؛ تقدیر و تشکر از همکاران واحد آموزش مجازی دانشگاه\n",
      "رئیس دانشگاه کردستان طی مراسمی از همکاران واحد آموزش تقدیر و تشکر کرد.\n",
      "چهارشنبه ۱ مرداد ۱۳۹۹\n",
      "بیشتر »\n",
      "نشست مشترک دانشگاه کردستان با دانشگاه یورال فدرال روسیه برگزار شد\n",
      "نشست مشترک دانشگاه کردستان با دانشگاه یورال فدرال روسیه با محوریت توسعه همکاری‌های علمی و پژوهشی در روز چهارشنبه مورخه ۱۳۹۹/۰۴/۲۵ ساعت ۱۳:۰۰ لغایت ۱۵:۰۰ به صورت مجازی و از طریق پلاتفرم Google Meet برگزار گردید.\n",
      "دوشنبه ۳۰ تیر ۱۳۹۹\n",
      "بیشتر »\n",
      "کتابخانه بخش نابینایان دانشگاه کردستان به دستگاه پرینتر بریل و برجسته نگار هوشمند مجهز شد\n",
      "به مناسبت گرامیداشت هفته بهزیستی، کتابخانه بخش نابینایان دانشگاه کردستان به یک دستگاه پرینتر بریل و دو دستگاه برجسته نگار هوشمند مجهز شد.\n",
      "سه‌شنبه ۲۴ تیر ۱۳۹۹\n",
      "بیشتر »\n",
      "اطلاعیه برگزاری ترم تابستان ۱۳۹۹ در دانشگاه کردستان\n",
      "به اطلاع کلیه دانشجویان عزیز می‌رساند، دانشگاه کردستان مطابق سالهای گذشته قصد دارد ترم تابستان سال ۱۳۹۹ را به صورت الکترونیکی (مجازی) برگزار کند.\n",
      "دوشنبه ۲۳ تیر ۱۳۹۹\n",
      "بیشتر »\n",
      "نشست روسای دانشگاه‌ها و مراکز آموزش عالی کشور برای برنامه‌ریزی شروع سال‌‌تحصیلی ۱۳۹۹_۱۴۰۰ با سخنرانی دکتر صادقی برگزار شد.\n",
      "نشست روسای دانشگاه‌ها و مراکز آموزش عالی کشور برای برنامه‌ریزی شروع سال‌‌تحصیلی ۱۳۹۹_۱۴۰۰، به صورت مجازی و با حضور رئیس دانشگاه کردستان برگزار شد.\n",
      "شنبه ۲۱ تیر ۱۳۹۹\n",
      "بیشتر »\n",
      "در راستای توسعه همکاری‌های علمی و بین‌المللی صورت گرفت: نشست مشترک دانشگاه کردستان با دانشگاه دولتی آلتای روسیه\n",
      "نشست مشترک دانشگاه کردستان با دانشگاه دولتی آلتای روسیه به منظور توسعه همکاری های علمی و بین‌المللی در روز چهارشنبه مورخه ۱۳۹۹/۰۴/۱۸ ساعت ۱۲:۳۰ لغایت ۱۳:۵۰ به صورت مجازی و از طریق پلاتفرم Google Meet برگزار گردید.\n",
      "شنبه ۲۱ تیر ۱۳۹۹\n",
      "بیشتر »\n",
      "نشست مشترک دانشگاه کردستان با دانشگاه مالایا کشور مالزی برگزار شد\n",
      "در راستای افزایش تعاملات بین‌المللی، نشست مشترک دانشگاه کردستان با دانشگاه مالایا کشور مالزی با محوریت توسعه همکاری‌های علمی و پژوهشی در روز سه‌شنبه مورخه ۱۷/۰۴/۱۳۹۹ ساعت ۱۱:۰۰ لغایت ۱۲:۳۰ به صورت مجازی و از طریق پلاتفرم Google Meet برگزار گردید.\n",
      "شنبه ۲۱ تیر ۱۳۹۹\n",
      "بیشتر »\n",
      "کسب گرنت پشتیبانی وزارت راه و شهرسازی از پایان نامە‌ دانشجوی دانشگاه کردستان\n",
      "یک دانشجوی دانشگاه کردستان موفق بە کسب گرنت پشتیبانی وزارت راه و شهرسازی از پایان نامە‌ دانشجویی شد.\n",
      "پنجشنبه ۱۲ تیر ۱۳۹۹\n",
      "بیشتر »\n",
      "بایگانی\n"
     ]
    }
   ],
   "source": [
    "print(news.text)"
   ]
  },
  {
   "cell_type": "markdown",
   "metadata": {},
   "source": [
    " # Part 2"
   ]
  },
  {
   "cell_type": "code",
   "execution_count": 265,
   "metadata": {},
   "outputs": [],
   "source": [
    "#Pics\n",
    "base2 = \"https://www.digikala.com/product/dkp-2504378/%DA%A9%D8%A7%D9%88%D8%B1-360-%D8%AF%D8%B1%D8%AC%D9%87-%D8%AC%DB%8C-%DA%A9%DB%8C-%DA%A9%DB%8C-%D9%85%D8%AF%D9%84-gk-a51-20-%D9%85%D9%86%D8%A7%D8%B3%D8%A8-%D8%A8%D8%B1%D8%A7%DB%8C-%DA%AF%D9%88%D8%B4%DB%8C-%D9%85%D9%88%D8%A8%D8%A7%DB%8C%D9%84-%D8%B3%D8%A7%D9%85%D8%B3%D9%88%D9%86%DA%AF-galaxy-a51#/tab-params\"\n",
    "browser = webdriver.Chrome('/usr/bin/chromedriver')\n",
    "wait = WebDriverWait(browser, 10)\n",
    "browser.get(base2)"
   ]
  },
  {
   "cell_type": "code",
   "execution_count": 145,
   "metadata": {},
   "outputs": [],
   "source": [
    "from selenium.webdriver import ActionChains\n",
    "from urllib.request import urlretrieve"
   ]
  },
  {
   "cell_type": "code",
   "execution_count": 209,
   "metadata": {},
   "outputs": [],
   "source": [
    "# get the image source\n",
    "image_links = [ad.get_attribute('src') for ad in browser.find_elements_by_css_selector('#content > div > div > article > section.c-product__gallery > div.c-gallery img')]"
   ]
  },
  {
   "cell_type": "code",
   "execution_count": 210,
   "metadata": {},
   "outputs": [
    {
     "data": {
      "text/plain": [
       "['https://dkstatics-public.digikala.com/digikala-products/119868671.jpg?x-oss-process=image/resize,m_lfit,h_600,w_600/quality,q_80',\n",
       " 'https://dkstatics-public.digikala.com/digikala-products/119868674.jpg?x-oss-process=image/resize,m_lfit,h_115,w_115/quality,q_60',\n",
       " 'https://dkstatics-public.digikala.com/digikala-products/119868677.jpg?x-oss-process=image/resize,m_lfit,h_115,w_115/quality,q_60',\n",
       " 'https://dkstatics-public.digikala.com/digikala-products/119876248.jpg?x-oss-process=image/resize,m_lfit,h_115,w_115/quality,q_60']"
      ]
     },
     "execution_count": 210,
     "metadata": {},
     "output_type": "execute_result"
    }
   ],
   "source": [
    "image_links"
   ]
  },
  {
   "cell_type": "code",
   "execution_count": 206,
   "metadata": {},
   "outputs": [],
   "source": [
    "#features basic\n",
    "\n",
    "features =  [fea.text for fea in browser.find_elements_by_css_selector('#content > div > div > article > section.c-product__info > div.c-product__attributes.js-product-attributes > div.c-product__config > div.c-product__config-wrapper > div.c-product__params.js-is-expandable > ul')]"
   ]
  },
  {
   "cell_type": "code",
   "execution_count": 207,
   "metadata": {},
   "outputs": [
    {
     "data": {
      "text/plain": [
       "['مناسب برای گوشی موبایل:\\nSamsung Galaxy A51\\nجنس:\\nپلی کربنات\\nساختار:\\nمات\\nموارد بیشتر']"
      ]
     },
     "execution_count": 207,
     "metadata": {},
     "output_type": "execute_result"
    }
   ],
   "source": [
    "features"
   ]
  },
  {
   "cell_type": "code",
   "execution_count": 208,
   "metadata": {},
   "outputs": [
    {
     "name": "stdout",
     "output_type": "stream",
     "text": [
      "مناسب برای گوشی موبایل:\n",
      "Samsung Galaxy A51\n",
      "جنس:\n",
      "پلی کربنات\n",
      "ساختار:\n",
      "مات\n",
      "موارد بیشتر\n"
     ]
    }
   ],
   "source": [
    "print(features[0])"
   ]
  },
  {
   "cell_type": "code",
   "execution_count": 250,
   "metadata": {},
   "outputs": [],
   "source": [
    "#Critics\n",
    "\n",
    "critic =  [critic.text for critic in browser.find_elements_by_css_selector('#tabs > div > div.c-content-expert.is-active > article > section.c-content-expert__summary > div > div')]"
   ]
  },
  {
   "cell_type": "code",
   "execution_count": 251,
   "metadata": {},
   "outputs": [
    {
     "data": {
      "text/plain": [
       "['کاور 360 درجه از سه تکه تشکیل شده، بخش اصلی که پشت و کناره ها را پوشش میدهد از جنس PC و پلی کربنات بوده و سخت است. دو بخش دیگر نیز از جنس پلی کربنات با کیفیت است که برای آسیب نرساندن به قاب گوشی کمی انعطاف پذیر نیز هست. در اطراف قسمت دوربین نیز برآمدگی تعبیه شده که از دوربین نیز تا حدودی محافظت شود. قسمت پورت ها، دوربین ها، سنسورها، اسپیکر ها و کلیدهای عملیاتی جلوی صفحه، به خوبی برش خورده و دسترسی به آن ها به راحتی امکانپذیر است. قسمت کلیدهای کناری نیز پوشش داده شده و قسمت منعطفی روی آن قرار گرفته که استفاده از کلیدها در عین محافظت از آنها راحت باشد. این قاب بسیار سبک است و باعث افزایش وزن و ضخامت گوشی نمی شود.']"
      ]
     },
     "execution_count": 251,
     "metadata": {},
     "output_type": "execute_result"
    }
   ],
   "source": [
    "critic"
   ]
  },
  {
   "cell_type": "code",
   "execution_count": 252,
   "metadata": {},
   "outputs": [
    {
     "name": "stdout",
     "output_type": "stream",
     "text": [
      "کاور 360 درجه از سه تکه تشکیل شده، بخش اصلی که پشت و کناره ها را پوشش میدهد از جنس PC و پلی کربنات بوده و سخت است. دو بخش دیگر نیز از جنس پلی کربنات با کیفیت است که برای آسیب نرساندن به قاب گوشی کمی انعطاف پذیر نیز هست. در اطراف قسمت دوربین نیز برآمدگی تعبیه شده که از دوربین نیز تا حدودی محافظت شود. قسمت پورت ها، دوربین ها، سنسورها، اسپیکر ها و کلیدهای عملیاتی جلوی صفحه، به خوبی برش خورده و دسترسی به آن ها به راحتی امکانپذیر است. قسمت کلیدهای کناری نیز پوشش داده شده و قسمت منعطفی روی آن قرار گرفته که استفاده از کلیدها در عین محافظت از آنها راحت باشد. این قاب بسیار سبک است و باعث افزایش وزن و ضخامت گوشی نمی شود.\n"
     ]
    }
   ],
   "source": [
    "print(critic[0])"
   ]
  },
  {
   "cell_type": "code",
   "execution_count": 262,
   "metadata": {},
   "outputs": [
    {
     "name": "stdout",
     "output_type": "stream",
     "text": [
      "Technical Specs:\n",
      "وزن:  80 گرم\n",
      "80 گرم:  مناسب برای گوشی موبایل\n",
      "مناسب برای گوشی موبایل:  Samsung Galaxy A51\n",
      "Samsung Galaxy A51:  جنس\n",
      "جنس:  پلی کربنات\n",
      "پلی کربنات:  ساختار\n",
      "ساختار:  مات\n",
      "مات:  سطح پوشش\n",
      "سطح پوشش:  قاب پشتی \n",
      "                                            , \n",
      "                                        \n",
      "                                                                            \n",
      "                                                                                                        \n",
      "                                                                            \n",
      "                                                                                    قاب جلویی \n",
      "                                            , \n",
      "                                        \n",
      "                                                                            \n",
      "                                                                                                        \n",
      "                                                                            \n",
      "                                                                                    لبه بالایی \n",
      "                                            , \n",
      "                                        \n",
      "                                                                            \n",
      "                                                                                                        \n",
      "                                                                            \n",
      "                                                                                    لبه پایینی \n",
      "                                            , \n",
      "                                        \n",
      "                                                                            \n",
      "                                                                                                        \n",
      "                                                                            \n",
      "                                                                                    لبه چپ \n",
      "                                            , \n",
      "                                        \n",
      "                                                                            \n",
      "                                                                                                        \n",
      "                                                                            \n",
      "                                                                                    لبه راست \n",
      "                                            , \n",
      "                                        \n",
      "                                                                            \n",
      "                                                                                                        \n",
      "                                                                            \n",
      "                                                                                    حفاظت از دکمه‌ها\n",
      "قاب پشتی \n",
      "                                            , \n",
      "                                        \n",
      "                                                                            \n",
      "                                                                                                        \n",
      "                                                                            \n",
      "                                                                                    قاب جلویی \n",
      "                                            , \n",
      "                                        \n",
      "                                                                            \n",
      "                                                                                                        \n",
      "                                                                            \n",
      "                                                                                    لبه بالایی \n",
      "                                            , \n",
      "                                        \n",
      "                                                                            \n",
      "                                                                                                        \n",
      "                                                                            \n",
      "                                                                                    لبه پایینی \n",
      "                                            , \n",
      "                                        \n",
      "                                                                            \n",
      "                                                                                                        \n",
      "                                                                            \n",
      "                                                                                    لبه چپ \n",
      "                                            , \n",
      "                                        \n",
      "                                                                            \n",
      "                                                                                                        \n",
      "                                                                            \n",
      "                                                                                    لبه راست \n",
      "                                            , \n",
      "                                        \n",
      "                                                                            \n",
      "                                                                                                        \n",
      "                                                                            \n",
      "                                                                                    حفاظت از دکمه‌ها:  قابلیت‌های ویژه\n",
      "قابلیت‌های ویژه:  مقاوم در برابر ضربه \n",
      "                                            , \n",
      "                                        \n",
      "                                                                            \n",
      "                                                                                                        \n",
      "                                                                            \n",
      "                                                                                    دسترسی آسان به درگاه ها \n",
      "                                            , \n",
      "                                        \n",
      "                                                                            \n",
      "                                                                                                        \n",
      "                                                                            \n",
      "                                                                                    لبه های برجسته برای محافظت صفحه نمایش \n",
      "                                            , \n",
      "                                        \n",
      "                                                                            \n",
      "                                                                                                        \n",
      "                                                                            \n",
      "                                                                                    لبه های برجسته برای محافظت دوربین \n",
      "                                            , \n",
      "                                        \n",
      "                                                                            \n",
      "                                                                                                        \n",
      "                                                                            \n",
      "                                                                                    پشتیبانی از شارژ بی‌سیم\n",
      "مقاوم در برابر ضربه \n",
      "                                            , \n",
      "                                        \n",
      "                                                                            \n",
      "                                                                                                        \n",
      "                                                                            \n",
      "                                                                                    دسترسی آسان به درگاه ها \n",
      "                                            , \n",
      "                                        \n",
      "                                                                            \n",
      "                                                                                                        \n",
      "                                                                            \n",
      "                                                                                    لبه های برجسته برای محافظت صفحه نمایش \n",
      "                                            , \n",
      "                                        \n",
      "                                                                            \n",
      "                                                                                                        \n",
      "                                                                            \n",
      "                                                                                    لبه های برجسته برای محافظت دوربین \n",
      "                                            , \n",
      "                                        \n",
      "                                                                            \n",
      "                                                                                                        \n",
      "                                                                            \n",
      "                                                                                    پشتیبانی از شارژ بی‌سیم:  سایر توضیحات\n",
      "سایر توضیحات:  پوشش بسیار بالا\n"
     ]
    }
   ],
   "source": [
    "#Expert Features\n",
    "response = requests.get(base2)\n",
    "html_soup = BeautifulSoup(response.text, 'html.parser')\n",
    "product_technical_features = html_soup.find('div', class_='c-params')\n",
    "product_technical_features = product_technical_features.find('section')\n",
    "product_technical_features = product_technical_features.find_all('span')\n",
    "product_technical_features = [review.text.strip() for review in product_technical_features]\n",
    "print('Technical Specs:')\n",
    "for i in range(len(product_technical_features)-1):\n",
    "    print(product_technical_features[i]+': ',product_technical_features[i+1])\n",
    "    i += 2"
   ]
  },
  {
   "cell_type": "code",
   "execution_count": 269,
   "metadata": {},
   "outputs": [],
   "source": [
    "#Comments\n",
    "tabs = browser.find_elements_by_class_name('c-box-tabs__tab')"
   ]
  },
  {
   "cell_type": "code",
   "execution_count": 270,
   "metadata": {},
   "outputs": [
    {
     "data": {
      "text/plain": [
       "[<selenium.webdriver.remote.webelement.WebElement (session=\"a130d0512a9a4a27c8f1a197f7947db3\", element=\"da03f898-c714-44b8-bf2f-ea2e4f113c1d\")>,\n",
       " <selenium.webdriver.remote.webelement.WebElement (session=\"a130d0512a9a4a27c8f1a197f7947db3\", element=\"ac25b326-1abe-4b42-9220-46e82170316d\")>,\n",
       " <selenium.webdriver.remote.webelement.WebElement (session=\"a130d0512a9a4a27c8f1a197f7947db3\", element=\"5348beee-b17d-41e5-b3ee-bd00c9d962dd\")>,\n",
       " <selenium.webdriver.remote.webelement.WebElement (session=\"a130d0512a9a4a27c8f1a197f7947db3\", element=\"c21999d3-418f-4902-ad3f-8fc4af5d46b1\")>]"
      ]
     },
     "execution_count": 270,
     "metadata": {},
     "output_type": "execute_result"
    }
   ],
   "source": [
    "tabs"
   ]
  },
  {
   "cell_type": "code",
   "execution_count": 272,
   "metadata": {},
   "outputs": [],
   "source": [
    "for tab in tabs:\n",
    "    if tab.get_attribute('data-method') == 'comments':\n",
    "        tab.click()"
   ]
  },
  {
   "cell_type": "code",
   "execution_count": 279,
   "metadata": {},
   "outputs": [
    {
     "name": "stdout",
     "output_type": "stream",
     "text": [
      "Comments:\n",
      "خوش فرم هست و ضخامتش باعث میشه به لنز دوربین ها آسیب نرسه (این خیلی مهمه)\n",
      "یه عده از دوستان نوشتن زود لکه برمیداره بله درسته\n",
      "ولی این باعث میشه کاور رو زود زود پاک کنید اگه یه موقع آلوده به ویروس هم بود ویروس از بین میره (حتما با پد الکلی و موقعی که گوشی سرد و خاموشه این کارو بکنید)\n",
      "با سلام\n",
      "این کالا پایه های پلاستیکی باره که با دوبار در اوردن گوشی میشکنه\n",
      "رنگ بندی درسته قرمز و... زده شده اما متاسفانه بعد از تحویل فقط قسمت دکمه ها رنگ داره\n",
      "به نظرم گاردهای سلیکونی بهترن\n",
      "تشکر از ارسال به موقع و نهوه تحویل کالا با برخورد بسیار خوبتون سپاس فراوان\n",
      "واقعا نسبت به قیمتش عالیه\n",
      "من اینو از بیرون گرفتم خیلی کاور خوبیه ولی روز اول برای ضدعفونی بهش الکل 70درصد زدم درجا پشتش پوست پوست شد مواظبش باشیذ\n",
      "من رازی هستم ممنون دیجی کالا\n",
      "کیفیت خوب بود\n",
      "ظاهرش خوبه و جای انگشت هم پشتش نمیمونه هرکاوری کثیف میشه این طبیعیه... راجه ب جا زدنش هم اگ اول لبه رو بزنی بعد کامل بچسبونیش اصلا گلس گوشی رو برنمیداره خیلیم راحت جا میره... فقط از ی چیزش ک ناراصی بودم محافظ دورببنشه ک زیبایی دوربین های پشت رو گرفته\n",
      "جنس خیلی خوبی داره فقط باید تو جا زدنش دقت کنید چون ممکنه گلس بشکنه یا حباب زیزش بیاد\n",
      "خوش ساخت و با کیفیت\n",
      "عالیه وخیلی شیک\n",
      "خوبه خوش دسته\n",
      "بسیار باکیفیت\n",
      "عدم امکان استفاده همراه با برخی محافظ های صفحه\n",
      "هواوی Y9s نیازی نیست بیست و چاری قابو دربیاری اگه میترسید خط بندازه پشت گوشیتونو نانو کنید بنظرم خیلی خوبه البته اگه جای سیمکارت باز باشه خوبه که نیازی به ورود و خوروج گوشی نباشه\n"
     ]
    }
   ],
   "source": [
    "comment_list = browser.find_element_by_class_name('c-comments__list')\n",
    "comments = comment_list.find_elements_by_tag_name('p')\n",
    "comments = [c.text for c in comments]\n",
    "print('Comments:')\n",
    "for i in range(len(comments)):\n",
    "    print(comments[i])"
   ]
  },
  {
   "cell_type": "code",
   "execution_count": null,
   "metadata": {},
   "outputs": [],
   "source": []
  }
 ],
 "metadata": {
  "kernelspec": {
   "display_name": "Python 3",
   "language": "python",
   "name": "python3"
  },
  "language_info": {
   "codemirror_mode": {
    "name": "ipython",
    "version": 3
   },
   "file_extension": ".py",
   "mimetype": "text/x-python",
   "name": "python",
   "nbconvert_exporter": "python",
   "pygments_lexer": "ipython3",
   "version": "3.7.5"
  }
 },
 "nbformat": 4,
 "nbformat_minor": 2
}
